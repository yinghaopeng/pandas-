{
 "cells": [
  {
   "cell_type": "code",
   "execution_count": 1,
   "metadata": {},
   "outputs": [],
   "source": [
    "import pandas as pd\n",
    "import numpy as np\n",
    "import matplotlib.pyplot as plt\n",
    "import warnings\n",
    "warnings.filterwarnings('ignore')"
   ]
  },
  {
   "cell_type": "code",
   "execution_count": 2,
   "metadata": {},
   "outputs": [],
   "source": [
    "# 读取候选人信息，由于原始数据没有表头，需要添加表头\n",
    "candidates = pd.read_csv(\"weball20.txt\", sep = '|',names=['CAND_ID','CAND_NAME','CAND_ICI','PTY_CD','CAND_PTY_AFFILIATION','TTL_RECEIPTS',\n",
    "                                                          'TRANS_FROM_AUTH','TTL_DISB','TRANS_TO_AUTH','COH_BOP','COH_COP','CAND_CONTRIB',\n",
    "                                                          'CAND_LOANS','OTHER_LOANS','CAND_LOAN_REPAY','OTHER_LOAN_REPAY','DEBTS_OWED_BY',\n",
    "                                                          'TTL_INDIV_CONTRIB','CAND_OFFICE_ST','CAND_OFFICE_DISTRICT','SPEC_ELECTION','PRIM_ELECTION','RUN_ELECTION'\n",
    "                                                          ,'GEN_ELECTION','GEN_ELECTION_PRECENT','OTHER_POL_CMTE_CONTRIB','POL_PTY_CONTRIB',\n",
    "                                                          'CVG_END_DT','INDIV_REFUNDS','CMTE_REFUNDS'])\n",
    "# 读取候选人和委员会的联系信息\n",
    "ccl = pd.read_csv(\"ccl.txt\", sep = '|',names=['CAND_ID','CAND_ELECTION_YR','FEC_ELECTION_YR','CMTE_ID','CMTE_TP','CMTE_DSGN','LINKAGE_ID'])"
   ]
  },
  {
   "cell_type": "code",
   "execution_count": 3,
   "metadata": {},
   "outputs": [],
   "source": [
    "ccl = pd.merge(ccl, candidates)\n",
    "ccl = pd.DataFrame(ccl, columns=[ 'CMTE_ID','CAND_ID', 'CAND_NAME','CAND_PTY_AFFILIATION'])"
   ]
  },
  {
   "cell_type": "code",
   "execution_count": 4,
   "metadata": {},
   "outputs": [
    {
     "data": {
      "text/html": [
       "<div>\n",
       "<style scoped>\n",
       "    .dataframe tbody tr th:only-of-type {\n",
       "        vertical-align: middle;\n",
       "    }\n",
       "\n",
       "    .dataframe tbody tr th {\n",
       "        vertical-align: top;\n",
       "    }\n",
       "\n",
       "    .dataframe thead th {\n",
       "        text-align: right;\n",
       "    }\n",
       "</style>\n",
       "<table border=\"1\" class=\"dataframe\">\n",
       "  <thead>\n",
       "    <tr style=\"text-align: right;\">\n",
       "      <th></th>\n",
       "      <th>CMTE_ID</th>\n",
       "      <th>CAND_ID</th>\n",
       "      <th>CAND_NAME</th>\n",
       "      <th>CAND_PTY_AFFILIATION</th>\n",
       "    </tr>\n",
       "  </thead>\n",
       "  <tbody>\n",
       "    <tr>\n",
       "      <th>0</th>\n",
       "      <td>C00697789</td>\n",
       "      <td>H0AL01055</td>\n",
       "      <td>CARL, JERRY LEE, JR</td>\n",
       "      <td>REP</td>\n",
       "    </tr>\n",
       "    <tr>\n",
       "      <th>1</th>\n",
       "      <td>C00701557</td>\n",
       "      <td>H0AL01063</td>\n",
       "      <td>LAMBERT, DOUGLAS WESTLEY III</td>\n",
       "      <td>REP</td>\n",
       "    </tr>\n",
       "    <tr>\n",
       "      <th>2</th>\n",
       "      <td>C00701409</td>\n",
       "      <td>H0AL01071</td>\n",
       "      <td>PRINGLE, CHRISTOPHER PAUL</td>\n",
       "      <td>REP</td>\n",
       "    </tr>\n",
       "    <tr>\n",
       "      <th>3</th>\n",
       "      <td>C00703066</td>\n",
       "      <td>H0AL01089</td>\n",
       "      <td>HIGHTOWER, BILL</td>\n",
       "      <td>REP</td>\n",
       "    </tr>\n",
       "    <tr>\n",
       "      <th>4</th>\n",
       "      <td>C00708867</td>\n",
       "      <td>H0AL01097</td>\n",
       "      <td>AVERHART, JAMES</td>\n",
       "      <td>DEM</td>\n",
       "    </tr>\n",
       "    <tr>\n",
       "      <th>5</th>\n",
       "      <td>C00710947</td>\n",
       "      <td>H0AL01105</td>\n",
       "      <td>GARDNER, KIANI A</td>\n",
       "      <td>DEM</td>\n",
       "    </tr>\n",
       "    <tr>\n",
       "      <th>6</th>\n",
       "      <td>C00722512</td>\n",
       "      <td>H0AL01121</td>\n",
       "      <td>CASTORANI, JOHN</td>\n",
       "      <td>REP</td>\n",
       "    </tr>\n",
       "    <tr>\n",
       "      <th>7</th>\n",
       "      <td>C00725069</td>\n",
       "      <td>H0AL01139</td>\n",
       "      <td>COLLINS, FREDERICK G. RICK'</td>\n",
       "      <td>DEM</td>\n",
       "    </tr>\n",
       "    <tr>\n",
       "      <th>8</th>\n",
       "      <td>C00462143</td>\n",
       "      <td>H0AL02087</td>\n",
       "      <td>ROBY, MARTHA</td>\n",
       "      <td>REP</td>\n",
       "    </tr>\n",
       "    <tr>\n",
       "      <th>9</th>\n",
       "      <td>C00493783</td>\n",
       "      <td>H0AL02087</td>\n",
       "      <td>ROBY, MARTHA</td>\n",
       "      <td>REP</td>\n",
       "    </tr>\n",
       "  </tbody>\n",
       "</table>\n",
       "</div>"
      ],
      "text/plain": [
       "     CMTE_ID    CAND_ID                     CAND_NAME CAND_PTY_AFFILIATION\n",
       "0  C00697789  H0AL01055           CARL, JERRY LEE, JR                  REP\n",
       "1  C00701557  H0AL01063  LAMBERT, DOUGLAS WESTLEY III                  REP\n",
       "2  C00701409  H0AL01071     PRINGLE, CHRISTOPHER PAUL                  REP\n",
       "3  C00703066  H0AL01089               HIGHTOWER, BILL                  REP\n",
       "4  C00708867  H0AL01097               AVERHART, JAMES                  DEM\n",
       "5  C00710947  H0AL01105              GARDNER, KIANI A                  DEM\n",
       "6  C00722512  H0AL01121               CASTORANI, JOHN                  REP\n",
       "7  C00725069  H0AL01139   COLLINS, FREDERICK G. RICK'                  DEM\n",
       "8  C00462143  H0AL02087                  ROBY, MARTHA                  REP\n",
       "9  C00493783  H0AL02087                  ROBY, MARTHA                  REP"
      ]
     },
     "execution_count": 4,
     "metadata": {},
     "output_type": "execute_result"
    }
   ],
   "source": [
    "ccl.head(10)"
   ]
  },
  {
   "cell_type": "code",
   "execution_count": 5,
   "metadata": {},
   "outputs": [],
   "source": [
    "itcont = pd.read_csv('itcont_2020_20200516_20200603.txt', sep='|',names=['CMTE_ID','AMNDT_IND','RPT_TP','TRANSACTION_PGI',\n",
    "                                                                                  'IMAGE_NUM','TRANSACTION_TP','ENTITY_TP','NAME','CITY',\n",
    "                                                                                  'STATE','ZIP_CODE','EMPLOYER','OCCUPATION','TRANSACTION_DT',\n",
    "                                                                                  'TRANSACTION_AMT','OTHER_ID','TRAN_ID','FILE_NUM','MEMO_CD',\n",
    "                                                                                  'MEMO_TEXT','SUB_ID'])"
   ]
  },
  {
   "cell_type": "code",
   "execution_count": 6,
   "metadata": {},
   "outputs": [],
   "source": [
    "c_itcont =  pd.merge(ccl,itcont)\n",
    "# 提取需要的数据列\n",
    "c_itcont = pd.DataFrame(c_itcont, columns=[ 'CAND_NAME','NAME', 'STATE','EMPLOYER','OCCUPATION',\n",
    "                                           'TRANSACTION_AMT', 'TRANSACTION_DT','CAND_PTY_AFFILIATION'])"
   ]
  },
  {
   "cell_type": "code",
   "execution_count": 7,
   "metadata": {},
   "outputs": [
    {
     "data": {
      "text/html": [
       "<div>\n",
       "<style scoped>\n",
       "    .dataframe tbody tr th:only-of-type {\n",
       "        vertical-align: middle;\n",
       "    }\n",
       "\n",
       "    .dataframe tbody tr th {\n",
       "        vertical-align: top;\n",
       "    }\n",
       "\n",
       "    .dataframe thead th {\n",
       "        text-align: right;\n",
       "    }\n",
       "</style>\n",
       "<table border=\"1\" class=\"dataframe\">\n",
       "  <thead>\n",
       "    <tr style=\"text-align: right;\">\n",
       "      <th></th>\n",
       "      <th>CAND_NAME</th>\n",
       "      <th>NAME</th>\n",
       "      <th>STATE</th>\n",
       "      <th>EMPLOYER</th>\n",
       "      <th>OCCUPATION</th>\n",
       "      <th>TRANSACTION_AMT</th>\n",
       "      <th>TRANSACTION_DT</th>\n",
       "      <th>CAND_PTY_AFFILIATION</th>\n",
       "    </tr>\n",
       "  </thead>\n",
       "  <tbody>\n",
       "    <tr>\n",
       "      <th>0</th>\n",
       "      <td>CARL, JERRY LEE, JR</td>\n",
       "      <td>BARBER, DANIEL</td>\n",
       "      <td>AL</td>\n",
       "      <td>BARNETT MILLWORKS</td>\n",
       "      <td>MILLWORK CONTRACTOR</td>\n",
       "      <td>800.0</td>\n",
       "      <td>5192020.0</td>\n",
       "      <td>REP</td>\n",
       "    </tr>\n",
       "    <tr>\n",
       "      <th>1</th>\n",
       "      <td>CARL, JERRY LEE, JR</td>\n",
       "      <td>BARNETT, PAUL S.</td>\n",
       "      <td>AL</td>\n",
       "      <td>BARNETT MILLWORKS</td>\n",
       "      <td>PRESIDENT</td>\n",
       "      <td>500.0</td>\n",
       "      <td>5222020.0</td>\n",
       "      <td>REP</td>\n",
       "    </tr>\n",
       "    <tr>\n",
       "      <th>2</th>\n",
       "      <td>CARL, JERRY LEE, JR</td>\n",
       "      <td>ADAMS, B J.</td>\n",
       "      <td>AL</td>\n",
       "      <td>NaN</td>\n",
       "      <td>SELF EMPLOYED</td>\n",
       "      <td>500.0</td>\n",
       "      <td>5272020.0</td>\n",
       "      <td>REP</td>\n",
       "    </tr>\n",
       "    <tr>\n",
       "      <th>3</th>\n",
       "      <td>CARL, JERRY LEE, JR</td>\n",
       "      <td>ADAMS, SPENCER M. III</td>\n",
       "      <td>AL</td>\n",
       "      <td>RETIRED</td>\n",
       "      <td>RETIRED</td>\n",
       "      <td>500.0</td>\n",
       "      <td>5272020.0</td>\n",
       "      <td>REP</td>\n",
       "    </tr>\n",
       "    <tr>\n",
       "      <th>4</th>\n",
       "      <td>CARL, JERRY LEE, JR</td>\n",
       "      <td>ALVIS, BURNICE THEODORE</td>\n",
       "      <td>AL</td>\n",
       "      <td>NaN</td>\n",
       "      <td>RETIRED</td>\n",
       "      <td>50.0</td>\n",
       "      <td>6022020.0</td>\n",
       "      <td>REP</td>\n",
       "    </tr>\n",
       "    <tr>\n",
       "      <th>5</th>\n",
       "      <td>CARL, JERRY LEE, JR</td>\n",
       "      <td>BEEBE, DONALD G.</td>\n",
       "      <td>AL</td>\n",
       "      <td>THE ATCHISON FIRM</td>\n",
       "      <td>ATTORNEY</td>\n",
       "      <td>1000.0</td>\n",
       "      <td>5192020.0</td>\n",
       "      <td>REP</td>\n",
       "    </tr>\n",
       "    <tr>\n",
       "      <th>6</th>\n",
       "      <td>CARL, JERRY LEE, JR</td>\n",
       "      <td>BILLINGSLEY, RANDALL J. JR.</td>\n",
       "      <td>AL</td>\n",
       "      <td>MOBILE ASPHALT CORP</td>\n",
       "      <td>CEO</td>\n",
       "      <td>1000.0</td>\n",
       "      <td>6022020.0</td>\n",
       "      <td>REP</td>\n",
       "    </tr>\n",
       "    <tr>\n",
       "      <th>7</th>\n",
       "      <td>CARL, JERRY LEE, JR</td>\n",
       "      <td>BOCK, CYNTHIA</td>\n",
       "      <td>AL</td>\n",
       "      <td>NaN</td>\n",
       "      <td>HOMEMAKER</td>\n",
       "      <td>500.0</td>\n",
       "      <td>5272020.0</td>\n",
       "      <td>REP</td>\n",
       "    </tr>\n",
       "    <tr>\n",
       "      <th>8</th>\n",
       "      <td>CARL, JERRY LEE, JR</td>\n",
       "      <td>BOCK, GEORGE W. JR.</td>\n",
       "      <td>AL</td>\n",
       "      <td>MID-WESTERN CONSTRUCTION</td>\n",
       "      <td>PRESIDENT</td>\n",
       "      <td>500.0</td>\n",
       "      <td>5272020.0</td>\n",
       "      <td>REP</td>\n",
       "    </tr>\n",
       "    <tr>\n",
       "      <th>9</th>\n",
       "      <td>CARL, JERRY LEE, JR</td>\n",
       "      <td>BOOTH, BARRY L. D.M.D.</td>\n",
       "      <td>AL</td>\n",
       "      <td>BOOTH DENTAL</td>\n",
       "      <td>PHYSCIAN</td>\n",
       "      <td>500.0</td>\n",
       "      <td>6022020.0</td>\n",
       "      <td>REP</td>\n",
       "    </tr>\n",
       "  </tbody>\n",
       "</table>\n",
       "</div>"
      ],
      "text/plain": [
       "             CAND_NAME                         NAME STATE  \\\n",
       "0  CARL, JERRY LEE, JR               BARBER, DANIEL    AL   \n",
       "1  CARL, JERRY LEE, JR             BARNETT, PAUL S.    AL   \n",
       "2  CARL, JERRY LEE, JR                  ADAMS, B J.    AL   \n",
       "3  CARL, JERRY LEE, JR        ADAMS, SPENCER M. III    AL   \n",
       "4  CARL, JERRY LEE, JR      ALVIS, BURNICE THEODORE    AL   \n",
       "5  CARL, JERRY LEE, JR             BEEBE, DONALD G.    AL   \n",
       "6  CARL, JERRY LEE, JR  BILLINGSLEY, RANDALL J. JR.    AL   \n",
       "7  CARL, JERRY LEE, JR                BOCK, CYNTHIA    AL   \n",
       "8  CARL, JERRY LEE, JR          BOCK, GEORGE W. JR.    AL   \n",
       "9  CARL, JERRY LEE, JR       BOOTH, BARRY L. D.M.D.    AL   \n",
       "\n",
       "                   EMPLOYER           OCCUPATION  TRANSACTION_AMT  \\\n",
       "0         BARNETT MILLWORKS  MILLWORK CONTRACTOR            800.0   \n",
       "1         BARNETT MILLWORKS            PRESIDENT            500.0   \n",
       "2                       NaN        SELF EMPLOYED            500.0   \n",
       "3                   RETIRED              RETIRED            500.0   \n",
       "4                       NaN              RETIRED             50.0   \n",
       "5         THE ATCHISON FIRM             ATTORNEY           1000.0   \n",
       "6       MOBILE ASPHALT CORP                  CEO           1000.0   \n",
       "7                       NaN            HOMEMAKER            500.0   \n",
       "8  MID-WESTERN CONSTRUCTION            PRESIDENT            500.0   \n",
       "9              BOOTH DENTAL             PHYSCIAN            500.0   \n",
       "\n",
       "   TRANSACTION_DT CAND_PTY_AFFILIATION  \n",
       "0       5192020.0                  REP  \n",
       "1       5222020.0                  REP  \n",
       "2       5272020.0                  REP  \n",
       "3       5272020.0                  REP  \n",
       "4       6022020.0                  REP  \n",
       "5       5192020.0                  REP  \n",
       "6       6022020.0                  REP  \n",
       "7       5272020.0                  REP  \n",
       "8       5272020.0                  REP  \n",
       "9       6022020.0                  REP  "
      ]
     },
     "execution_count": 7,
     "metadata": {},
     "output_type": "execute_result"
    }
   ],
   "source": [
    "c_itcont.head(10)"
   ]
  },
  {
   "cell_type": "code",
   "execution_count": 8,
   "metadata": {},
   "outputs": [
    {
     "data": {
      "text/plain": [
       "(42523, 8)"
      ]
     },
     "execution_count": 8,
     "metadata": {},
     "output_type": "execute_result"
    }
   ],
   "source": [
    "c_itcont.shape"
   ]
  },
  {
   "cell_type": "code",
   "execution_count": 9,
   "metadata": {},
   "outputs": [
    {
     "name": "stdout",
     "output_type": "stream",
     "text": [
      "<class 'pandas.core.frame.DataFrame'>\n",
      "Int64Index: 42523 entries, 0 to 42522\n",
      "Data columns (total 8 columns):\n",
      " #   Column                Non-Null Count  Dtype  \n",
      "---  ------                --------------  -----  \n",
      " 0   CAND_NAME             42523 non-null  object \n",
      " 1   NAME                  42523 non-null  object \n",
      " 2   STATE                 42517 non-null  object \n",
      " 3   EMPLOYER              39978 non-null  object \n",
      " 4   OCCUPATION            42061 non-null  object \n",
      " 5   TRANSACTION_AMT       42522 non-null  float64\n",
      " 6   TRANSACTION_DT        42522 non-null  float64\n",
      " 7   CAND_PTY_AFFILIATION  42523 non-null  object \n",
      "dtypes: float64(2), object(6)\n",
      "memory usage: 2.9+ MB\n"
     ]
    }
   ],
   "source": [
    "c_itcont.info()"
   ]
  },
  {
   "cell_type": "code",
   "execution_count": 10,
   "metadata": {},
   "outputs": [],
   "source": [
    "#空值处理，统一填充 NOT PROVIDED\n",
    "c_itcont['STATE'].fillna('NOT PROVIDED', inplace = True)\n",
    "c_itcont['EMPLOYER'].fillna('NOT PROVIDED', inplace = True)\n",
    "c_itcont['OCCUPATION'].fillna('NOT PROVIDED', inplace = True)\n",
    "c_itcont['TRANSACTION_AMT'].fillna(method = 'bfill', inplace = True)\n",
    "c_itcont['TRANSACTION_DT'].fillna(method = 'bfill', inplace = True)"
   ]
  },
  {
   "cell_type": "code",
   "execution_count": 11,
   "metadata": {},
   "outputs": [],
   "source": [
    "# 对日期TRANSACTION_DT列进行处理\n",
    "c_itcont['TRANSACTION_DT'] = c_itcont['TRANSACTION_DT'] .astype(str)\n",
    "# 将日期格式改为年月日  7242020\t\n",
    "c_itcont['TRANSACTION_DT'] = [i[3:7]+i[0]+i[1:3] for i in c_itcont['TRANSACTION_DT'] ]"
   ]
  },
  {
   "cell_type": "code",
   "execution_count": 12,
   "metadata": {},
   "outputs": [
    {
     "data": {
      "text/html": [
       "<div>\n",
       "<style scoped>\n",
       "    .dataframe tbody tr th:only-of-type {\n",
       "        vertical-align: middle;\n",
       "    }\n",
       "\n",
       "    .dataframe tbody tr th {\n",
       "        vertical-align: top;\n",
       "    }\n",
       "\n",
       "    .dataframe thead th {\n",
       "        text-align: right;\n",
       "    }\n",
       "</style>\n",
       "<table border=\"1\" class=\"dataframe\">\n",
       "  <thead>\n",
       "    <tr style=\"text-align: right;\">\n",
       "      <th></th>\n",
       "      <th>CAND_NAME</th>\n",
       "      <th>NAME</th>\n",
       "      <th>STATE</th>\n",
       "      <th>EMPLOYER</th>\n",
       "      <th>OCCUPATION</th>\n",
       "      <th>TRANSACTION_AMT</th>\n",
       "      <th>TRANSACTION_DT</th>\n",
       "      <th>CAND_PTY_AFFILIATION</th>\n",
       "    </tr>\n",
       "  </thead>\n",
       "  <tbody>\n",
       "    <tr>\n",
       "      <th>0</th>\n",
       "      <td>CARL, JERRY LEE, JR</td>\n",
       "      <td>BARBER, DANIEL</td>\n",
       "      <td>AL</td>\n",
       "      <td>BARNETT MILLWORKS</td>\n",
       "      <td>MILLWORK CONTRACTOR</td>\n",
       "      <td>800.0</td>\n",
       "      <td>2020519</td>\n",
       "      <td>REP</td>\n",
       "    </tr>\n",
       "    <tr>\n",
       "      <th>1</th>\n",
       "      <td>CARL, JERRY LEE, JR</td>\n",
       "      <td>BARNETT, PAUL S.</td>\n",
       "      <td>AL</td>\n",
       "      <td>BARNETT MILLWORKS</td>\n",
       "      <td>PRESIDENT</td>\n",
       "      <td>500.0</td>\n",
       "      <td>2020522</td>\n",
       "      <td>REP</td>\n",
       "    </tr>\n",
       "    <tr>\n",
       "      <th>2</th>\n",
       "      <td>CARL, JERRY LEE, JR</td>\n",
       "      <td>ADAMS, B J.</td>\n",
       "      <td>AL</td>\n",
       "      <td>NOT PROVIDED</td>\n",
       "      <td>SELF EMPLOYED</td>\n",
       "      <td>500.0</td>\n",
       "      <td>2020527</td>\n",
       "      <td>REP</td>\n",
       "    </tr>\n",
       "  </tbody>\n",
       "</table>\n",
       "</div>"
      ],
      "text/plain": [
       "             CAND_NAME              NAME STATE           EMPLOYER  \\\n",
       "0  CARL, JERRY LEE, JR    BARBER, DANIEL    AL  BARNETT MILLWORKS   \n",
       "1  CARL, JERRY LEE, JR  BARNETT, PAUL S.    AL  BARNETT MILLWORKS   \n",
       "2  CARL, JERRY LEE, JR       ADAMS, B J.    AL       NOT PROVIDED   \n",
       "\n",
       "            OCCUPATION  TRANSACTION_AMT TRANSACTION_DT CAND_PTY_AFFILIATION  \n",
       "0  MILLWORK CONTRACTOR            800.0        2020519                  REP  \n",
       "1            PRESIDENT            500.0        2020522                  REP  \n",
       "2        SELF EMPLOYED            500.0        2020527                  REP  "
      ]
     },
     "execution_count": 12,
     "metadata": {},
     "output_type": "execute_result"
    }
   ],
   "source": [
    "c_itcont.head(3)"
   ]
  },
  {
   "cell_type": "code",
   "execution_count": 13,
   "metadata": {},
   "outputs": [
    {
     "name": "stdout",
     "output_type": "stream",
     "text": [
      "<class 'pandas.core.frame.DataFrame'>\n",
      "Int64Index: 42523 entries, 0 to 42522\n",
      "Data columns (total 8 columns):\n",
      " #   Column                Non-Null Count  Dtype  \n",
      "---  ------                --------------  -----  \n",
      " 0   CAND_NAME             42523 non-null  object \n",
      " 1   NAME                  42523 non-null  object \n",
      " 2   STATE                 42523 non-null  object \n",
      " 3   EMPLOYER              42523 non-null  object \n",
      " 4   OCCUPATION            42523 non-null  object \n",
      " 5   TRANSACTION_AMT       42523 non-null  float64\n",
      " 6   TRANSACTION_DT        42523 non-null  object \n",
      " 7   CAND_PTY_AFFILIATION  42523 non-null  object \n",
      "dtypes: float64(1), object(7)\n",
      "memory usage: 2.9+ MB\n"
     ]
    }
   ],
   "source": [
    "c_itcont.info()"
   ]
  },
  {
   "cell_type": "code",
   "execution_count": 15,
   "metadata": {},
   "outputs": [
    {
     "data": {
      "text/plain": [
       "count                42523\n",
       "unique                 136\n",
       "top       TRUMP, DONALD J.\n",
       "freq                 19718\n",
       "Name: CAND_NAME, dtype: object"
      ]
     },
     "execution_count": 15,
     "metadata": {},
     "output_type": "execute_result"
    }
   ],
   "source": [
    "c_itcont['CAND_NAME'].describe()"
   ]
  },
  {
   "cell_type": "code",
   "execution_count": 16,
   "metadata": {},
   "outputs": [
    {
     "data": {
      "text/html": [
       "<div>\n",
       "<style scoped>\n",
       "    .dataframe tbody tr th:only-of-type {\n",
       "        vertical-align: middle;\n",
       "    }\n",
       "\n",
       "    .dataframe tbody tr th {\n",
       "        vertical-align: top;\n",
       "    }\n",
       "\n",
       "    .dataframe thead th {\n",
       "        text-align: right;\n",
       "    }\n",
       "</style>\n",
       "<table border=\"1\" class=\"dataframe\">\n",
       "  <thead>\n",
       "    <tr style=\"text-align: right;\">\n",
       "      <th></th>\n",
       "      <th>TRANSACTION_AMT</th>\n",
       "    </tr>\n",
       "    <tr>\n",
       "      <th>CAND_PTY_AFFILIATION</th>\n",
       "      <th></th>\n",
       "    </tr>\n",
       "  </thead>\n",
       "  <tbody>\n",
       "    <tr>\n",
       "      <th>DEM</th>\n",
       "      <td>5442823.0</td>\n",
       "    </tr>\n",
       "    <tr>\n",
       "      <th>REP</th>\n",
       "      <td>4000833.0</td>\n",
       "    </tr>\n",
       "    <tr>\n",
       "      <th>LIB</th>\n",
       "      <td>48445.0</td>\n",
       "    </tr>\n",
       "    <tr>\n",
       "      <th>DFL</th>\n",
       "      <td>3070.0</td>\n",
       "    </tr>\n",
       "    <tr>\n",
       "      <th>W</th>\n",
       "      <td>424.0</td>\n",
       "    </tr>\n",
       "    <tr>\n",
       "      <th>GRE</th>\n",
       "      <td>30.0</td>\n",
       "    </tr>\n",
       "  </tbody>\n",
       "</table>\n",
       "</div>"
      ],
      "text/plain": [
       "                      TRANSACTION_AMT\n",
       "CAND_PTY_AFFILIATION                 \n",
       "DEM                         5442823.0\n",
       "REP                         4000833.0\n",
       "LIB                           48445.0\n",
       "DFL                            3070.0\n",
       "W                               424.0\n",
       "GRE                              30.0"
      ]
     },
     "execution_count": 16,
     "metadata": {},
     "output_type": "execute_result"
    }
   ],
   "source": [
    "# 计算每个党派的所获得的捐款总额，然后排序，取前十位\n",
    "c_itcont.groupby(\"CAND_PTY_AFFILIATION\").sum().sort_values(\"TRANSACTION_AMT\",ascending=False).head(10)"
   ]
  },
  {
   "cell_type": "code",
   "execution_count": 17,
   "metadata": {},
   "outputs": [
    {
     "data": {
      "text/html": [
       "<div>\n",
       "<style scoped>\n",
       "    .dataframe tbody tr th:only-of-type {\n",
       "        vertical-align: middle;\n",
       "    }\n",
       "\n",
       "    .dataframe tbody tr th {\n",
       "        vertical-align: top;\n",
       "    }\n",
       "\n",
       "    .dataframe thead th {\n",
       "        text-align: right;\n",
       "    }\n",
       "</style>\n",
       "<table border=\"1\" class=\"dataframe\">\n",
       "  <thead>\n",
       "    <tr style=\"text-align: right;\">\n",
       "      <th></th>\n",
       "      <th>TRANSACTION_AMT</th>\n",
       "    </tr>\n",
       "    <tr>\n",
       "      <th>CAND_NAME</th>\n",
       "      <th></th>\n",
       "    </tr>\n",
       "  </thead>\n",
       "  <tbody>\n",
       "    <tr>\n",
       "      <th>TRUMP, DONALD J.</th>\n",
       "      <td>2426508.0</td>\n",
       "    </tr>\n",
       "    <tr>\n",
       "      <th>BULLOCK, STEVE</th>\n",
       "      <td>1549641.0</td>\n",
       "    </tr>\n",
       "    <tr>\n",
       "      <th>BIDEN, JOSEPH R JR</th>\n",
       "      <td>806795.0</td>\n",
       "    </tr>\n",
       "    <tr>\n",
       "      <th>HICKENLOOPER, JOHN W.</th>\n",
       "      <td>699733.0</td>\n",
       "    </tr>\n",
       "    <tr>\n",
       "      <th>SHAHEEN, JEANNE</th>\n",
       "      <td>337869.0</td>\n",
       "    </tr>\n",
       "    <tr>\n",
       "      <th>CORNYN, JOHN SEN</th>\n",
       "      <td>255261.0</td>\n",
       "    </tr>\n",
       "    <tr>\n",
       "      <th>HARRIS, KAMALA D.</th>\n",
       "      <td>213744.0</td>\n",
       "    </tr>\n",
       "    <tr>\n",
       "      <th>TORRES SMALL, XOCHITL</th>\n",
       "      <td>158408.0</td>\n",
       "    </tr>\n",
       "    <tr>\n",
       "      <th>HAGERTY, BILL</th>\n",
       "      <td>141066.0</td>\n",
       "    </tr>\n",
       "    <tr>\n",
       "      <th>FRANKEN, MICHAEL</th>\n",
       "      <td>108215.0</td>\n",
       "    </tr>\n",
       "  </tbody>\n",
       "</table>\n",
       "</div>"
      ],
      "text/plain": [
       "                       TRANSACTION_AMT\n",
       "CAND_NAME                             \n",
       "TRUMP, DONALD J.             2426508.0\n",
       "BULLOCK, STEVE               1549641.0\n",
       "BIDEN, JOSEPH R JR            806795.0\n",
       "HICKENLOOPER, JOHN W.         699733.0\n",
       "SHAHEEN, JEANNE               337869.0\n",
       "CORNYN, JOHN SEN              255261.0\n",
       "HARRIS, KAMALA D.             213744.0\n",
       "TORRES SMALL, XOCHITL         158408.0\n",
       "HAGERTY, BILL                 141066.0\n",
       "FRANKEN, MICHAEL              108215.0"
      ]
     },
     "execution_count": 17,
     "metadata": {},
     "output_type": "execute_result"
    }
   ],
   "source": [
    "c_itcont.groupby(\"CAND_NAME\").sum().sort_values(\"TRANSACTION_AMT\",ascending=False).head(10)"
   ]
  },
  {
   "cell_type": "code",
   "execution_count": 18,
   "metadata": {},
   "outputs": [
    {
     "data": {
      "text/html": [
       "<div>\n",
       "<style scoped>\n",
       "    .dataframe tbody tr th:only-of-type {\n",
       "        vertical-align: middle;\n",
       "    }\n",
       "\n",
       "    .dataframe tbody tr th {\n",
       "        vertical-align: top;\n",
       "    }\n",
       "\n",
       "    .dataframe thead th {\n",
       "        text-align: right;\n",
       "    }\n",
       "</style>\n",
       "<table border=\"1\" class=\"dataframe\">\n",
       "  <thead>\n",
       "    <tr style=\"text-align: right;\">\n",
       "      <th></th>\n",
       "      <th>TRANSACTION_AMT</th>\n",
       "    </tr>\n",
       "    <tr>\n",
       "      <th>OCCUPATION</th>\n",
       "      <th></th>\n",
       "    </tr>\n",
       "  </thead>\n",
       "  <tbody>\n",
       "    <tr>\n",
       "      <th>RETIRED</th>\n",
       "      <td>2195278.0</td>\n",
       "    </tr>\n",
       "    <tr>\n",
       "      <th>NOT EMPLOYED</th>\n",
       "      <td>1184677.0</td>\n",
       "    </tr>\n",
       "    <tr>\n",
       "      <th>ATTORNEY</th>\n",
       "      <td>710526.0</td>\n",
       "    </tr>\n",
       "    <tr>\n",
       "      <th>NOT PROVIDED</th>\n",
       "      <td>372914.0</td>\n",
       "    </tr>\n",
       "    <tr>\n",
       "      <th>CEO</th>\n",
       "      <td>198529.0</td>\n",
       "    </tr>\n",
       "    <tr>\n",
       "      <th>HOMEMAKER</th>\n",
       "      <td>185417.0</td>\n",
       "    </tr>\n",
       "    <tr>\n",
       "      <th>PRESIDENT</th>\n",
       "      <td>183622.0</td>\n",
       "    </tr>\n",
       "    <tr>\n",
       "      <th>PHYSICIAN</th>\n",
       "      <td>157669.0</td>\n",
       "    </tr>\n",
       "    <tr>\n",
       "      <th>OWNER</th>\n",
       "      <td>151947.0</td>\n",
       "    </tr>\n",
       "    <tr>\n",
       "      <th>EXECUTIVE</th>\n",
       "      <td>144887.0</td>\n",
       "    </tr>\n",
       "  </tbody>\n",
       "</table>\n",
       "</div>"
      ],
      "text/plain": [
       "              TRANSACTION_AMT\n",
       "OCCUPATION                   \n",
       "RETIRED             2195278.0\n",
       "NOT EMPLOYED        1184677.0\n",
       "ATTORNEY             710526.0\n",
       "NOT PROVIDED         372914.0\n",
       "CEO                  198529.0\n",
       "HOMEMAKER            185417.0\n",
       "PRESIDENT            183622.0\n",
       "PHYSICIAN            157669.0\n",
       "OWNER                151947.0\n",
       "EXECUTIVE            144887.0"
      ]
     },
     "execution_count": 18,
     "metadata": {},
     "output_type": "execute_result"
    }
   ],
   "source": [
    "c_itcont.groupby('OCCUPATION').sum().sort_values(\"TRANSACTION_AMT\",ascending=False).head(10)"
   ]
  },
  {
   "cell_type": "code",
   "execution_count": 19,
   "metadata": {},
   "outputs": [
    {
     "data": {
      "text/plain": [
       "RETIRED         15683\n",
       "NOT EMPLOYED     7516\n",
       "ATTORNEY         1205\n",
       "PHYSICIAN         584\n",
       "NOT PROVIDED      462\n",
       "CONSULTANT        385\n",
       "OWNER             354\n",
       "PRESIDENT         344\n",
       "ENGINEER          331\n",
       "CEO               304\n",
       "Name: OCCUPATION, dtype: int64"
      ]
     },
     "execution_count": 19,
     "metadata": {},
     "output_type": "execute_result"
    }
   ],
   "source": [
    "c_itcont['OCCUPATION'].value_counts().head(10)"
   ]
  },
  {
   "cell_type": "code",
   "execution_count": 20,
   "metadata": {},
   "outputs": [
    {
     "data": {
      "text/html": [
       "<div>\n",
       "<style scoped>\n",
       "    .dataframe tbody tr th:only-of-type {\n",
       "        vertical-align: middle;\n",
       "    }\n",
       "\n",
       "    .dataframe tbody tr th {\n",
       "        vertical-align: top;\n",
       "    }\n",
       "\n",
       "    .dataframe thead th {\n",
       "        text-align: right;\n",
       "    }\n",
       "</style>\n",
       "<table border=\"1\" class=\"dataframe\">\n",
       "  <thead>\n",
       "    <tr style=\"text-align: right;\">\n",
       "      <th></th>\n",
       "      <th>TRANSACTION_AMT</th>\n",
       "    </tr>\n",
       "    <tr>\n",
       "      <th>STATE</th>\n",
       "      <th></th>\n",
       "    </tr>\n",
       "  </thead>\n",
       "  <tbody>\n",
       "    <tr>\n",
       "      <th>CA</th>\n",
       "      <td>1725362.0</td>\n",
       "    </tr>\n",
       "    <tr>\n",
       "      <th>NY</th>\n",
       "      <td>855355.0</td>\n",
       "    </tr>\n",
       "    <tr>\n",
       "      <th>TX</th>\n",
       "      <td>667482.0</td>\n",
       "    </tr>\n",
       "    <tr>\n",
       "      <th>FL</th>\n",
       "      <td>499817.0</td>\n",
       "    </tr>\n",
       "    <tr>\n",
       "      <th>MA</th>\n",
       "      <td>436139.0</td>\n",
       "    </tr>\n",
       "  </tbody>\n",
       "</table>\n",
       "</div>"
      ],
      "text/plain": [
       "       TRANSACTION_AMT\n",
       "STATE                 \n",
       "CA           1725362.0\n",
       "NY            855355.0\n",
       "TX            667482.0\n",
       "FL            499817.0\n",
       "MA            436139.0"
      ]
     },
     "execution_count": 20,
     "metadata": {},
     "output_type": "execute_result"
    }
   ],
   "source": [
    "c_itcont.groupby('STATE').sum().sort_values(\"TRANSACTION_AMT\",ascending=False).head(5)"
   ]
  },
  {
   "cell_type": "code",
   "execution_count": 22,
   "metadata": {},
   "outputs": [],
   "source": [
    "# 导入matplotlib中的pyplot\n",
    "import matplotlib.pyplot as plt\n",
    "# 为了使matplotlib图形能够内联显示\n",
    "%matplotlib inline\n",
    "# 导入词云库\n",
    "from wordcloud import WordCloud,ImageColorGenerator"
   ]
  },
  {
   "cell_type": "code",
   "execution_count": 23,
   "metadata": {},
   "outputs": [
    {
     "data": {
      "text/plain": [
       "<AxesSubplot:xlabel='STATE'>"
      ]
     },
     "execution_count": 23,
     "metadata": {},
     "output_type": "execute_result"
    },
    {
     "data": {
      "image/png": "[encoded data removed]",
      "text/plain": [
       "<Figure size 432x288 with 1 Axes>"
      ]
     },
     "metadata": {
      "needs_background": "light"
     },
     "output_type": "display_data"
    }
   ],
   "source": [
    "# 各州总捐款数可视化\n",
    "st_amt = c_itcont.groupby('STATE').sum().sort_values(\"TRANSACTION_AMT\",ascending=False)[:10]\n",
    "st_amt=pd.DataFrame(st_amt, columns=['TRANSACTION_AMT'])\n",
    "st_amt.plot(kind='bar')"
   ]
  },
  {
   "cell_type": "code",
   "execution_count": 26,
   "metadata": {},
   "outputs": [
    {
     "data": {
      "text/plain": [
       "<AxesSubplot:xlabel='STATE'>"
      ]
     },
     "execution_count": 26,
     "metadata": {},
     "output_type": "execute_result"
    },
    {
     "data": {
      "image/png": "[encoded data removed]",
      "text/plain": [
       "<Figure size 432x288 with 1 Axes>"
      ]
     },
     "metadata": {
      "needs_background": "light"
     },
     "output_type": "display_data"
    }
   ],
   "source": [
    "# 各州捐款总人数可视化，取前10个州的数据\n",
    "st_amt = c_itcont.groupby('STATE').size().sort_values(ascending=False).head(10)\n",
    "st_amt.plot(kind='bar')"
   ]
  },
  {
   "cell_type": "code",
   "execution_count": 25,
   "metadata": {},
   "outputs": [
    {
     "data": {
      "text/plain": [
       "array([<AxesSubplot:ylabel='TRANSACTION_AMT'>], dtype=object)"
      ]
     },
     "execution_count": 25,
     "metadata": {},
     "output_type": "execute_result"
    },
    {
     "data": {
      "image/png": "[encoded data removed]",
      "text/plain": [
       "<Figure size 720x720 with 1 Axes>"
      ]
     },
     "metadata": {},
     "output_type": "display_data"
    }
   ],
   "source": [
    "# 从所有数据中取出支持拜登的数据\n",
    "biden = c_itcont[c_itcont['CAND_NAME']=='BIDEN, JOSEPH R JR']\n",
    "# 统计各州对拜登的捐款总数\n",
    "biden_state = biden.groupby('STATE').sum().sort_values(\"TRANSACTION_AMT\", ascending=False).head(10)\n",
    "# 饼图可视化各州捐款数据占比\n",
    "biden_state.plot.pie(figsize=(10, 10),autopct='%0.2f%%',subplots=True)"
   ]
  }
 ],
 "metadata": {
  "interpreter": {
   "hash": "a8f61be024eba58adef938c9aa1e29e02cb3dece83a5348b1a2dafd16a070453"
  },
  "kernelspec": {
   "display_name": "Python 3.8.8 64-bit ('base': conda)",
   "language": "python",
   "name": "python3"
  },
  "language_info": {
   "codemirror_mode": {
    "name": "ipython",
    "version": 3
   },
   "file_extension": ".py",
   "mimetype": "text/x-python",
   "name": "python",
   "nbconvert_exporter": "python",
   "pygments_lexer": "ipython3",
   "version": "3.8.8"
  },
  "orig_nbformat": 4
 },
 "nbformat": 4,
 "nbformat_minor": 2
}
